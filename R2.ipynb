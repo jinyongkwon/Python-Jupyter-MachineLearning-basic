{
 "cells": [
  {
   "cell_type": "markdown",
   "id": "d4272bde",
   "metadata": {},
   "source": [
    "# 결정계수 구해보기\n",
    "- 실제값 : [1,3,6,3,7]\n",
    "- 평균값 : [4]\n",
    "- 예측값 : [2,4,4,4,5]\n",
    "\n",
    "- 연습예측값 : [1,3,5,5,7]"
   ]
  },
  {
   "cell_type": "code",
   "execution_count": 1,
   "id": "b5aed9c9",
   "metadata": {},
   "outputs": [],
   "source": [
    "# SSE -> Error sum of squares\n",
    "\n",
    "# 예측값으로 SSE구하기\n",
    "# [1-2, 3-4, 6-4, 3-4, 7-5] : 실제값-예측값\n",
    "# [-1, -1, 2, -1, 2] : 계산한 값\n",
    "# [1, 1, 4, 1, 4] : 음수를 없애기 위해 제곱 \n",
    "# 다 합치면 [11] : SSE = 11\n",
    "\n",
    "# 연습예측값으로 SSE구하기.\n",
    "# [1-1, 3-3, 6-5, 3-5, 7-7]\n",
    "# [0, 0, 1, -2, 0]\n",
    "# [0, 0, 1, 4, 0]\n",
    "# [5]"
   ]
  },
  {
   "cell_type": "code",
   "execution_count": 4,
   "id": "1a2cc927",
   "metadata": {},
   "outputs": [
    {
     "ename": "SyntaxError",
     "evalue": "cannot assign to operator (Temp/ipykernel_13920/3486381314.py, line 9)",
     "output_type": "error",
     "traceback": [
      "\u001b[1;36m  File \u001b[1;32m\"C:\\Users\\JY\\AppData\\Local\\Temp/ipykernel_13920/3486381314.py\"\u001b[1;36m, line \u001b[1;32m9\u001b[0m\n\u001b[1;33m    r^2 = 1- (11/24)\u001b[0m\n\u001b[1;37m    ^\u001b[0m\n\u001b[1;31mSyntaxError\u001b[0m\u001b[1;31m:\u001b[0m cannot assign to operator\n"
     ]
    }
   ],
   "source": [
    "# SST -> Total Sum of squares -> SSE + SSR\n",
    "# [1-4, 3-4, 6-4, 3-4, 7-4] : 실제값 - 평균값\n",
    "# [-3, -1, 2, -1, 3] : 계산한 값\n",
    "# [9, 1, 4, 1, 9] : 음수를 없애기 위해 제곱\n",
    "# [24] : SST = 24\n",
    "\n",
    "# R2 = 1 - (SSE/SST)\n",
    "# R2 = 1 - (11/24)\n",
    "r2 = 1- (11/24)\n",
    "print(r2)"
   ]
  },
  {
   "cell_type": "code",
   "execution_count": null,
   "id": "4998d1bf",
   "metadata": {},
   "outputs": [],
   "source": []
  }
 ],
 "metadata": {
  "kernelspec": {
   "display_name": "Python 3 (ipykernel)",
   "language": "python",
   "name": "python3"
  },
  "language_info": {
   "codemirror_mode": {
    "name": "ipython",
    "version": 3
   },
   "file_extension": ".py",
   "mimetype": "text/x-python",
   "name": "python",
   "nbconvert_exporter": "python",
   "pygments_lexer": "ipython3",
   "version": "3.9.7"
  }
 },
 "nbformat": 4,
 "nbformat_minor": 5
}
