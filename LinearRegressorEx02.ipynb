{
 "cells": [
  {
   "cell_type": "markdown",
   "id": "c1801340",
   "metadata": {},
   "source": [
    "# 선형회귀\n",
    "- 전장에 문제점 (1) 모델 선택이 잘못됨 (2) 특성이 길이 하나만으로 무게를 측정한다는게 말이 안됨.\n",
    "- 모델선택이 잘못된것을 해결할 것.\n",
    "\n",
    "```txt\n",
    "선형회귀에서 선과 점에 오차율은 음수가 되수도 있기 때문에 모든손실(잔차)값에는 제곱을 해준뒤 더해서 MSE(평균 제곱 오차)를 구한다.\n",
    "이 값이 최소가 되는 회귀식을 찾는 것을 최소제곱법이라고 하고 이때 사용하는 방법을 경사하강법(미분)이라한다\n",
    "```"
   ]
  },
  {
   "cell_type": "code",
   "execution_count": 1,
   "id": "f12e9236",
   "metadata": {},
   "outputs": [],
   "source": [
    "import numpy as np\n",
    "\n",
    "perch_length = np.array([8.4, 13.7, 15.0, 16.2, 17.4, 18.0, 18.7, 19.0, 19.6, 20.0, 21.0,\n",
    "       21.0, 21.0, 21.3, 22.0, 22.0, 22.0, 22.0, 22.0, 22.5, 22.5, 22.7,\n",
    "       23.0, 23.5, 24.0, 24.0, 24.6, 25.0, 25.6, 26.5, 27.3, 27.5, 27.5,\n",
    "       27.5, 28.0, 28.7, 30.0, 32.8, 34.5, 35.0, 36.5, 36.0, 37.0, 37.0,\n",
    "       39.0, 39.0, 39.0, 40.0, 40.0, 40.0, 40.0, 42.0, 43.0, 43.0, 43.5,\n",
    "       44.0])\n",
    "perch_weight = np.array([5.9, 32.0, 40.0, 51.5, 70.0, 100.0, 78.0, 80.0, 85.0, 85.0, 110.0,\n",
    "       115.0, 125.0, 130.0, 120.0, 120.0, 130.0, 135.0, 110.0, 130.0,\n",
    "       150.0, 145.0, 150.0, 170.0, 225.0, 145.0, 188.0, 180.0, 197.0,\n",
    "       218.0, 300.0, 260.0, 265.0, 250.0, 250.0, 300.0, 320.0, 514.0,\n",
    "       556.0, 840.0, 685.0, 700.0, 700.0, 690.0, 900.0, 650.0, 820.0,\n",
    "       850.0, 900.0, 1015.0, 820.0, 1100.0, 1000.0, 1100.0, 1000.0,\n",
    "       1000.0])"
   ]
  },
  {
   "cell_type": "code",
   "execution_count": 5,
   "id": "f575f0a8",
   "metadata": {},
   "outputs": [],
   "source": [
    "from sklearn.model_selection import train_test_split\n",
    "\n",
    "# 훈련세트와 테스트 세트로 나눔 (크로스 밸리데이션)\n",
    "train_input, test_input, train_target, test_target = train_test_split(perch_length, perch_weight, random_state=42)\n",
    "\n",
    "# 훈련 세트와 테스트 세트를 2차원배열로 바꿈\n",
    "train_input = train_input.reshape(train_input.size,1)\n",
    "test_input = test_input.reshape(test_input.size,1)"
   ]
  },
  {
   "cell_type": "code",
   "execution_count": 6,
   "id": "60f2bbd2",
   "metadata": {},
   "outputs": [
    {
     "name": "stdout",
     "output_type": "stream",
     "text": [
      "[1033.33333333]\n"
     ]
    }
   ],
   "source": [
    "from sklearn.neighbors import KNeighborsRegressor\n",
    "\n",
    "knr = KNeighborsRegressor(n_neighbors=3)\n",
    "\n",
    "knr.fit(train_input,train_target)\n",
    "\n",
    "print(knr.predict([[50]]))"
   ]
  },
  {
   "cell_type": "code",
   "execution_count": 7,
   "id": "8a7c1363",
   "metadata": {},
   "outputs": [
    {
     "data": {
      "image/png": "[encoded data removed]",
      "text/plain": [
       "<Figure size 432x288 with 1 Axes>"
      ]
     },
     "metadata": {
      "needs_background": "light"
     },
     "output_type": "display_data"
    }
   ],
   "source": [
    "import matplotlib.pyplot as plt\n",
    "\n",
    "# 50cm 농어의 이웃을 구함\n",
    "distances, indexes = knr.kneighbors([[50]])\n",
    "\n",
    "# 훈련 세트를 그림\n",
    "plt.scatter(train_input,train_target)\n",
    "# 훈련 세트 중 이웃 샘플만 다시 그림\n",
    "plt.scatter(train_input[indexes], train_target[indexes], marker='D')\n",
    "\n",
    "# 50cm 농어 데이터\n",
    "plt.scatter(50,1033, marker='^')\n",
    "plt.xlabel('length')\n",
    "plt.ylabel('weight')\n",
    "plt.show()"
   ]
  },
  {
   "cell_type": "code",
   "execution_count": 8,
   "id": "dc43319c",
   "metadata": {},
   "outputs": [
    {
     "name": "stdout",
     "output_type": "stream",
     "text": [
      "1033.3333333333333\n"
     ]
    }
   ],
   "source": [
    "# 이웃 샘플들의 평균\n",
    "print(np.mean(train_target[indexes]))"
   ]
  },
  {
   "cell_type": "code",
   "execution_count": 9,
   "id": "f06b0aea",
   "metadata": {
    "scrolled": true
   },
   "outputs": [
    {
     "data": {
      "image/png": "[encoded data removed]",
      "text/plain": [
       "<Figure size 432x288 with 1 Axes>"
      ]
     },
     "metadata": {
      "needs_background": "light"
     },
     "output_type": "display_data"
    }
   ],
   "source": [
    "# 100cm 농어의 이웃을 구함\n",
    "distances, indexes = knr.kneighbors([[100]])\n",
    "\n",
    "# 훈련 세트를 그림\n",
    "plt.scatter(train_input,train_target)\n",
    "# 훈련 세트 중 이웃 샘플만 다시 그림\n",
    "plt.scatter(train_input[indexes], train_target[indexes], marker='D')\n",
    "\n",
    "# 100cm 농어 데이터\n",
    "plt.scatter(100,1033, marker='^')\n",
    "plt.xlabel('length')\n",
    "plt.ylabel('weight')\n",
    "plt.show()"
   ]
  },
  {
   "cell_type": "code",
   "execution_count": 10,
   "id": "8005f30c",
   "metadata": {},
   "outputs": [
    {
     "name": "stdout",
     "output_type": "stream",
     "text": [
      "[1241.83860323]\n"
     ]
    }
   ],
   "source": [
    "from sklearn.linear_model import LinearRegression\n",
    "\n",
    "lr = LinearRegression()\n",
    "\n",
    "lr.fit(train_input, train_target)\n",
    "print(lr.predict([[50]]))"
   ]
  },
  {
   "cell_type": "code",
   "execution_count": 11,
   "id": "ee5b3661",
   "metadata": {},
   "outputs": [
    {
     "name": "stdout",
     "output_type": "stream",
     "text": [
      "[39.01714496] -709.0186449535477\n"
     ]
    }
   ],
   "source": [
    "# 농어 무게 = a(기울기) * 농어길이 + b(절편)\n",
    "# y = 39.017 * x + (-709.018)\n",
    "\n",
    "print(lr.coef_, lr.intercept_) # coef = 기울기, intercept = 절편"
   ]
  },
  {
   "cell_type": "code",
   "execution_count": 12,
   "id": "0113d354",
   "metadata": {},
   "outputs": [
    {
     "data": {
      "image/png": "[encoded data removed]",
      "text/plain": [
       "<Figure size 432x288 with 1 Axes>"
      ]
     },
     "metadata": {
      "needs_background": "light"
     },
     "output_type": "display_data"
    }
   ],
   "source": [
    "# 훈련 세트의 산점도\n",
    "plt.scatter(train_input, train_target)\n",
    "\n",
    "# 15 ~ 50까지의 1차 방정식 그래프\n",
    "plt.plot([15,50], [15*lr.coef_+lr.intercept_, 50*lr.coef_+lr.intercept_]) # 선을 그리는 메서드\n",
    "plt.scatter(50,1241,8,marker='^')\n",
    "\n",
    "# 50cm 농어 데이터\n",
    "plt.scatter(50,1241.8,marker='^')\n",
    "plt.show()"
   ]
  },
  {
   "cell_type": "code",
   "execution_count": 13,
   "id": "85a658fd",
   "metadata": {},
   "outputs": [
    {
     "name": "stdout",
     "output_type": "stream",
     "text": [
      "0.939846333997604\n",
      "0.8247503123313558\n"
     ]
    }
   ],
   "source": [
    "# 훈련데이터보다 테스트데이터가 더 낮게 나옴\n",
    "# 하지만 값이 비슷하지 않음. => 과대 적합\n",
    "# => 특성이 너무 적어서 그럼.\n",
    "print(lr.score(train_input, train_target))\n",
    "print(lr.score(test_input, test_target))"
   ]
  },
  {
   "cell_type": "code",
   "execution_count": null,
   "id": "676a575b",
   "metadata": {},
   "outputs": [],
   "source": []
  }
 ],
 "metadata": {
  "kernelspec": {
   "display_name": "Python 3 (ipykernel)",
   "language": "python",
   "name": "python3"
  },
  "language_info": {
   "codemirror_mode": {
    "name": "ipython",
    "version": 3
   },
   "file_extension": ".py",
   "mimetype": "text/x-python",
   "name": "python",
   "nbconvert_exporter": "python",
   "pygments_lexer": "ipython3",
   "version": "3.9.7"
  }
 },
 "nbformat": 4,
 "nbformat_minor": 5
}
