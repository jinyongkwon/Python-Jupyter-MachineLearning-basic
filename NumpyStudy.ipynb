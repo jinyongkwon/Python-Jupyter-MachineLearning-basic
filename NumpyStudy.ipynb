{
 "cells": [
  {
   "cell_type": "markdown",
   "id": "a945a0de",
   "metadata": {},
   "source": [
    "# numpy 공부하기"
   ]
  },
  {
   "cell_type": "code",
   "execution_count": 5,
   "id": "aafb13d5",
   "metadata": {},
   "outputs": [
    {
     "name": "stdout",
     "output_type": "stream",
     "text": [
      "<class 'list'>\n",
      "<class 'numpy.ndarray'>\n",
      "[1, 2, 3, 4]\n",
      "[1. 2. 3. 4.]\n"
     ]
    }
   ],
   "source": [
    "import numpy as np\n",
    "\n",
    "temp1 = [1,2,3,4]\n",
    "arr1 = np.array(temp1, dtype=np.float16) # 이런식으로 해야 효율적으로 사용가능\n",
    "\n",
    "print(type(temp1))\n",
    "print(type(arr1))\n",
    "print(temp1)\n",
    "print(arr1) #,가 아닌 뒤에.이 붙음\n"
   ]
  },
  {
   "cell_type": "code",
   "execution_count": 6,
   "id": "a44ad269",
   "metadata": {
    "scrolled": true
   },
   "outputs": [
    {
     "name": "stdout",
     "output_type": "stream",
     "text": [
      "<class 'numpy.float16'>\n",
      "<class 'int'>\n",
      "(4,)\n"
     ]
    }
   ],
   "source": [
    "print(type(arr1[0]))\n",
    "print(type(temp1[0]))\n",
    "print(arr1.shape) # 해당 데이터의 행렬을 출력 => 4행"
   ]
  },
  {
   "cell_type": "markdown",
   "id": "d15939f6",
   "metadata": {},
   "source": [
    "```txt\n",
    "3 -> 스칼라 Scala\n",
    "[3,3,4,5] -> 1차원 벡터 Vector\n",
    "[[1,2],[3,4]] -> 2차원 매트릭스 Matrix -> Pandas 라이브러리 사용예정 = R\n",
    "3차원 -> 텐서 TenSor\n",
    "2차원을 제외한 모든것은 numpy로 다루는것이 좋다!!\n",
    "우선적으로 쿼리문을 사용해서 DB에 데이터를 필요한것만 가져와서 사용하는것이 가장 좋다!!\n",
    "```"
   ]
  },
  {
   "cell_type": "code",
   "execution_count": 7,
   "id": "b11c58a6",
   "metadata": {},
   "outputs": [],
   "source": [
    "temp2 = [ \n",
    "    [1,2,3],\n",
    "    [4,5,6],\n",
    "    [7,8,9],\n",
    "    [10,11,12]\n",
    "]\n"
   ]
  },
  {
   "cell_type": "code",
   "execution_count": 8,
   "id": "1a265e9a",
   "metadata": {},
   "outputs": [
    {
     "name": "stdout",
     "output_type": "stream",
     "text": [
      "[[ 1  2  3]\n",
      " [ 4  5  6]\n",
      " [ 7  8  9]\n",
      " [10 11 12]]\n",
      "(4, 3)\n"
     ]
    }
   ],
   "source": [
    "arr2 = np.array(temp2, dtype=np.int8)\n",
    "print(arr2)\n",
    "print(arr2.shape) # 4행 3렬"
   ]
  },
  {
   "cell_type": "code",
   "execution_count": 9,
   "id": "05ce564a",
   "metadata": {},
   "outputs": [
    {
     "name": "stdout",
     "output_type": "stream",
     "text": [
      "8\n",
      "(2, 4)\n",
      "**************************************************\n",
      "[1 2 3 4 5 6 7 8]\n",
      "[[1 2]\n",
      " [3 4]\n",
      " [5 6]\n",
      " [7 8]]\n",
      "[[[1]\n",
      "  [2]]\n",
      "\n",
      " [[3]\n",
      "  [4]]\n",
      "\n",
      " [[5]\n",
      "  [6]]\n",
      "\n",
      " [[7]\n",
      "  [8]]]\n"
     ]
    }
   ],
   "source": [
    "temp3 = [\n",
    "    [1,2,3,4],\n",
    "    [5,6,7,8]\n",
    "]\n",
    "\n",
    "matrix1 = np.array(temp3)\n",
    "\n",
    "print(matrix1.size)\n",
    "print(matrix1.shape)\n",
    "print(\"*\"*50)\n",
    "\n",
    "arr1 = matrix1.reshape(8,) # 1차원배열로 flattern => 뜻 = 평평하게하다 => Filter(끄집어내고)와 Map(담음) Vector\n",
    "print(arr1)\n",
    "arr2 = matrix1.reshape(4,2) # 4행 2열로 바꿈 => 사이즈가 맞아야 실행이됨 Matrix\n",
    "print(arr2)\n",
    "arr3 = matrix1.reshape(4,2,1) # 3차원으로 바꿈 Tensor\n",
    "print(arr3)"
   ]
  },
  {
   "cell_type": "code",
   "execution_count": 10,
   "id": "2af96dab",
   "metadata": {},
   "outputs": [
    {
     "name": "stdout",
     "output_type": "stream",
     "text": [
      "2\n",
      "[[2 3]\n",
      " [6 7]]\n",
      "[7 8]\n",
      "7\n"
     ]
    }
   ],
   "source": [
    "temp4 = [\n",
    "    [1,2,3,4],\n",
    "    [5,6,7,8]\n",
    "]\n",
    "matrix1 = np.array(temp4)\n",
    "# matrix1[0][0]\n",
    "\n",
    "print(matrix1[0,1]) # numpy에서만 사용가능 => ,로 인덱스 찾기가 가능\n",
    "print(matrix1[:,1:3]) # 처음부터 할경우 시작번지 생략가능 # 시작번지는 1, 두번째 인수는 그 해당번지 직전(2번지)까지 출력\n",
    "\n",
    "print(matrix1[1,2:]) # 끝까지 할경우 끝번지 생략가능\n",
    "print(matrix1[1,-2]) # -를 붙일경우 뒤에서 부터 찾음"
   ]
  },
  {
   "cell_type": "code",
   "execution_count": 11,
   "id": "0705196a",
   "metadata": {},
   "outputs": [
    {
     "name": "stdout",
     "output_type": "stream",
     "text": [
      "[ 0  1  2  3  4  5  6  7  8  9 10 11 12 13 14]\n",
      "[ 0  1  2  3  4  5  6  7  8  9 10 11 12 13 14]\n",
      "[[ 0  2  4]\n",
      " [ 5  7  9]\n",
      " [10 12 14]]\n",
      "[[ 0  1  2  3  4]\n",
      " [10 11 12 13 14]]\n"
     ]
    }
   ],
   "source": [
    "temp1 = [\n",
    "    [0, 1, 2, 3, 4],\n",
    "    [5, 6, 7, 8, 9],\n",
    "    [10, 11, 12, 13, 14]\n",
    "]\n",
    "\n",
    "m1 = np.array(temp1)\n",
    "\n",
    "arr1 = m1.reshape(m1.size) # -를 쓰면 1차원 배열로 Flattern, 해당 배열의 사이즈를 사용해도 됨.\n",
    "print(arr1)\n",
    "\n",
    "arr2 = m1.flatten() # flatten 메서드 사용가능. => 값이 복제되는것 => 불변을 유지해주는 함수.\n",
    "print(arr2)\n",
    "\n",
    "print(m1[:,0::2]) # step => 첫 : = 모든행, 두번째 :2 = 2칸씩 띄워서\n",
    "\n",
    "print(m1[::2,:])"
   ]
  },
  {
   "cell_type": "code",
   "execution_count": 12,
   "id": "979f4879",
   "metadata": {},
   "outputs": [
    {
     "name": "stdout",
     "output_type": "stream",
     "text": [
      "[0 1 2 3 4 5 6 7 8 9]\n",
      "[0. 0. 0. 0. 0. 0. 0. 0. 0. 0.]\n",
      "[1. 1. 1. 1. 1. 1. 1. 1. 1. 1.]\n",
      "[1. 1. 1. 1. 1. 1. 1. 1. 1. 1.]\n"
     ]
    }
   ],
   "source": [
    "arr1 = np.arange(10) # 10개의 1차원 배열을 만들어줌\n",
    "print(arr1)\n",
    "\n",
    "arr2 = np.zeros(10)\n",
    "print(arr2)\n",
    "\n",
    "arr3 = np.ones(shape=(10,))\n",
    "print(arr3)\n",
    "\n",
    "arr4 = np.ones_like(arr3) # 똑같이 생긴 모양으로 값채우기 가능.\n",
    "print(arr4)"
   ]
  },
  {
   "cell_type": "code",
   "execution_count": null,
   "id": "4e666b7e",
   "metadata": {},
   "outputs": [],
   "source": []
  }
 ],
 "metadata": {
  "kernelspec": {
   "display_name": "Python 3 (ipykernel)",
   "language": "python",
   "name": "python3"
  },
  "language_info": {
   "codemirror_mode": {
    "name": "ipython",
    "version": 3
   },
   "file_extension": ".py",
   "mimetype": "text/x-python",
   "name": "python",
   "nbconvert_exporter": "python",
   "pygments_lexer": "ipython3",
   "version": "3.9.7"
  }
 },
 "nbformat": 4,
 "nbformat_minor": 5
}
