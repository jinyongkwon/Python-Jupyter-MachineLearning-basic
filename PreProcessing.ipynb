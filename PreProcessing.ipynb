{
 "cells": [
  {
   "cell_type": "code",
   "execution_count": 52,
   "id": "dd7e6cbf",
   "metadata": {},
   "outputs": [],
   "source": [
    "from sklearn.model_selection import train_test_split\n",
    "import numpy as np\n",
    "\n",
    "fish_length = [25.4, 26.3, 26.5, 29.0, 29.0, 29.7, 29.7, 30.0, 30.0, 30.7, 31.0, 31.0, \n",
    "                31.5, 32.0, 32.0, 32.0, 33.0, 33.0, 33.5, 33.5, 34.0, 34.0, 34.5, 35.0, \n",
    "                35.0, 35.0, 35.0, 36.0, 36.0, 37.0, 38.5, 38.5, 39.5, 41.0, 41.0, 9.8, \n",
    "                10.5, 10.6, 11.0, 11.2, 11.3, 11.8, 11.8, 12.0, 12.2, 12.4, 13.0, 14.3, 15.0]\n",
    "fish_weight = [242.0, 290.0, 340.0, 363.0, 430.0, 450.0, 500.0, 390.0, 450.0, 500.0, 475.0, 500.0, \n",
    "                500.0, 340.0, 600.0, 600.0, 700.0, 700.0, 610.0, 650.0, 575.0, 685.0, 620.0, 680.0, \n",
    "                700.0, 725.0, 720.0, 714.0, 850.0, 1000.0, 920.0, 955.0, 925.0, 975.0, 950.0, 6.7, \n",
    "                7.5, 7.0, 9.7, 9.8, 8.7, 10.0, 9.9, 9.8, 12.2, 13.4, 12.2, 19.7, 19.9]\n",
    "fish_target = [1] * 35 + [0] * 14\n",
    "\n",
    "\n",
    "fish_data = np.column_stack((fish_length,fish_weight))\n",
    "fish_target = [1] * 35 + [0] * 14\n",
    "\n",
    "train_input , test_input, train_target, test_target = train_test_split(fish_data,fish_target)"
   ]
  },
  {
   "cell_type": "code",
   "execution_count": 53,
   "id": "c301bb51",
   "metadata": {},
   "outputs": [
    {
     "data": {
      "text/plain": [
       "1.0"
      ]
     },
     "execution_count": 53,
     "metadata": {},
     "output_type": "execute_result"
    }
   ],
   "source": [
    "from sklearn.neighbors import KNeighborsClassifier\n",
    "\n",
    "kn = KNeighborsClassifier(n_neighbors=5)\n",
    "kn.fit(train_input, train_target)\n",
    "kn.score(test_input,test_target)"
   ]
  },
  {
   "cell_type": "code",
   "execution_count": 54,
   "id": "fc3b0bb8",
   "metadata": {
    "scrolled": true
   },
   "outputs": [
    {
     "data": {
      "image/png": "[encoded data removed]",
      "text/plain": [
       "<Figure size 432x288 with 1 Axes>"
      ]
     },
     "metadata": {
      "needs_background": "light"
     },
     "output_type": "display_data"
    }
   ],
   "source": [
    "import matplotlib.pyplot as plt\n",
    "\n",
    "# print(train_input)\n",
    "plt.scatter(train_input[:,0], train_input[:,1])\n",
    "plt.scatter(test_input[:,0], test_input[:,1])\n",
    "plt.scatter([25],[150], marker=\"^\")\n",
    "plt.show()"
   ]
  },
  {
   "cell_type": "code",
   "execution_count": 55,
   "id": "313b569c",
   "metadata": {},
   "outputs": [
    {
     "data": {
      "text/plain": [
       "array([0])"
      ]
     },
     "execution_count": 55,
     "metadata": {},
     "output_type": "execute_result"
    }
   ],
   "source": [
    "kn.predict([[25,130]])"
   ]
  },
  {
   "cell_type": "markdown",
   "id": "0fb92a25",
   "metadata": {},
   "source": [
    ">### 실제 거리를 구해보자"
   ]
  },
  {
   "cell_type": "code",
   "execution_count": 56,
   "id": "96a22105",
   "metadata": {},
   "outputs": [
    {
     "name": "stdout",
     "output_type": "stream",
     "text": [
      "[[ 92.00086956 130.48375378 130.73859415 137.17988191 138.32150953]]\n",
      "[[[ 25.4 242. ]\n",
      "  [ 15.   19.9]\n",
      "  [ 14.3  19.7]\n",
      "  [ 12.4  13.4]\n",
      "  [ 13.   12.2]]]\n"
     ]
    }
   ],
   "source": [
    "distances, indexes = kn.kneighbors([[25,150]])\n",
    "\n",
    "print(distances)\n",
    "print(train_input[indexes]) # 파이썬은 배열의 인덱스에 리스트를 넣으면 모두 자동으로 for-each문 돌듯이 출력함."
   ]
  },
  {
   "cell_type": "code",
   "execution_count": 57,
   "id": "d717d6a5",
   "metadata": {},
   "outputs": [
    {
     "data": {
      "image/png": "[encoded data removed]",
      "text/plain": [
       "<Figure size 432x288 with 1 Axes>"
      ]
     },
     "metadata": {
      "needs_background": "light"
     },
     "output_type": "display_data"
    }
   ],
   "source": [
    "plt.scatter(train_input[:,0], train_input[:,1])\n",
    "plt.scatter(test_input[:,0], test_input[:,1])\n",
    "plt.scatter([25],[150], marker=\"^\")\n",
    "plt.xlim((0,1000))\n",
    "plt.show()"
   ]
  },
  {
   "cell_type": "markdown",
   "id": "8ea44f70",
   "metadata": {},
   "source": [
    "### Scaling 하기\n",
    "- 분산\n",
    "- 표준편차\n",
    "- 표준점수"
   ]
  },
  {
   "cell_type": "code",
   "execution_count": 61,
   "id": "7fc55e7b",
   "metadata": {},
   "outputs": [
    {
     "name": "stdout",
     "output_type": "stream",
     "text": [
      "[[-1.37849028 -1.31208765]\n",
      " [-1.55698006 -1.32110723]\n",
      " [ 0.78123603  1.05583205]\n",
      " [ 0.78123603  0.67250021]\n",
      " [ 1.22746047  1.3376937 ]\n",
      " [ 0.42425647 -0.38166235]\n",
      " [-1.49450864 -1.31885233]\n",
      " [ 0.21899323  0.06931628]\n",
      " [-1.34279232 -1.30560484]\n",
      " [ 0.60274625  0.59076033]\n",
      " [ 0.21899323 -0.07161454]\n",
      " [ 1.00434825  1.35178678]\n",
      " [ 0.51350136  0.63303958]]\n"
     ]
    }
   ],
   "source": [
    "# print(train_input)\n",
    "# std_length = np.std(train_input[:,0]) # 표준 편차 구하는 메서드 => 즉 분산 생략가능\n",
    "# std_weight = np.std(train_input[:,1])\n",
    "\n",
    "# train\n",
    "mean = np.mean(train_input, axis=0) # 평균\n",
    "std = np.std(train_input, axis=0) # 표준편차\n",
    "train_scaled = (train_input - mean) / std # 표준점수\n",
    "\n",
    "#test\n",
    "mean2 = np.mean(test_input, axis=0) # 평균\n",
    "std2 = np.std(test_input, axis=0) # 표준편차\n",
    "test_scaled = (test_input - mean2) / std2 # 표준점수\n",
    "print(test_scaled)"
   ]
  },
  {
   "cell_type": "code",
   "execution_count": 59,
   "id": "54befa75",
   "metadata": {},
   "outputs": [
    {
     "data": {
      "image/png": "[encoded data removed]",
      "text/plain": [
       "<Figure size 432x288 with 1 Axes>"
      ]
     },
     "metadata": {
      "needs_background": "light"
     },
     "output_type": "display_data"
    }
   ],
   "source": [
    "new = ([25,150] - mean) /std\n",
    "\n",
    "plt.scatter(train_scaled[:,0], train_scaled[:,1])\n",
    "plt.scatter(test_scaled[:,0], test_scaled[:,1])\n",
    "plt.scatter(new[0], new[1], marker=\"^\")\n",
    "plt.show()"
   ]
  },
  {
   "cell_type": "code",
   "execution_count": 60,
   "id": "fb002809",
   "metadata": {},
   "outputs": [
    {
     "name": "stdout",
     "output_type": "stream",
     "text": [
      "1.0\n",
      "[1]\n"
     ]
    }
   ],
   "source": [
    "kn.fit(train_scaled, train_target)\n",
    "print(kn.score(test_scaled, test_target))\n",
    "\n",
    "print(kn.predict([new]))"
   ]
  },
  {
   "cell_type": "code",
   "execution_count": null,
   "id": "075e1b8b",
   "metadata": {},
   "outputs": [],
   "source": []
  },
  {
   "cell_type": "code",
   "execution_count": null,
   "id": "e9515587",
   "metadata": {},
   "outputs": [],
   "source": []
  }
 ],
 "metadata": {
  "kernelspec": {
   "display_name": "Python 3 (ipykernel)",
   "language": "python",
   "name": "python3"
  },
  "language_info": {
   "codemirror_mode": {
    "name": "ipython",
    "version": 3
   },
   "file_extension": ".py",
   "mimetype": "text/x-python",
   "name": "python",
   "nbconvert_exporter": "python",
   "pygments_lexer": "ipython3",
   "version": "3.9.7"
  }
 },
 "nbformat": 4,
 "nbformat_minor": 5
}
