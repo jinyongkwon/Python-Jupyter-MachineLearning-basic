{
 "cells": [
  {
   "cell_type": "markdown",
   "id": "9078057d",
   "metadata": {},
   "source": [
    "# 텍스트 전처리\n",
    "- 토큰화\n",
    "- 한글은 konlpy, 영어는 nltk, 카카오 khaiii, 박상길 kss 라이브러리를 사용 추천\n",
    "- 형태소 추출 morphs() \n",
    "- 명사 추출 nonus()\n",
    "- 품사와 함께 추출 pos()\n",
    "- 어절 추출 phrases()"
   ]
  },
  {
   "cell_type": "code",
   "execution_count": 5,
   "id": "1414c13b",
   "metadata": {},
   "outputs": [
    {
     "name": "stdout",
     "output_type": "stream",
     "text": [
      "Collecting konlpy\n",
      "  Downloading konlpy-0.6.0-py2.py3-none-any.whl (19.4 MB)\n",
      "Requirement already satisfied: lxml>=4.1.0 in c:\\programdata\\anaconda3\\lib\\site-packages (from konlpy) (4.8.0)\n",
      "Collecting JPype1>=0.7.0\n",
      "  Downloading JPype1-1.4.0-cp39-cp39-win_amd64.whl (344 kB)\n",
      "Requirement already satisfied: numpy>=1.6 in c:\\programdata\\anaconda3\\lib\\site-packages (from konlpy) (1.21.5)\n",
      "Installing collected packages: JPype1, konlpy\n",
      "Successfully installed JPype1-1.4.0 konlpy-0.6.0\n",
      "Note: you may need to restart the kernel to use updated packages.\n"
     ]
    }
   ],
   "source": [
    "pip install konlpy"
   ]
  },
  {
   "cell_type": "code",
   "execution_count": 20,
   "id": "fe1c96d4",
   "metadata": {},
   "outputs": [],
   "source": [
    "words = \"관계가 괴로울 때, 팩트 1 당신을 괴롭히는 사람은 정작 당신의 괴로움에 대해 신경쓰지 않는다. 관계로 괴로울 때, 팩트 2 당신을 괴롭히는 사람보다 당신을 응원하는 사람의 숫자가 훨씬 많다.\""
   ]
  },
  {
   "cell_type": "code",
   "execution_count": 9,
   "id": "a519521b",
   "metadata": {},
   "outputs": [],
   "source": [
    "from konlpy.tag import Okt"
   ]
  },
  {
   "cell_type": "markdown",
   "id": "3a999340",
   "metadata": {},
   "source": [
    "### 형태소\n",
    "- 뜻을가진 가장 작은 말의 단위\n",
    "### 어절\n",
    "- 말할 때 꼭 붙여 발음하는 단위\n",
    "### 품사\n",
    "- 단어를 기능, 형태, 의미에 따라 나눈 갈래"
   ]
  },
  {
   "cell_type": "code",
   "execution_count": 16,
   "id": "55d2722a",
   "metadata": {},
   "outputs": [
    {
     "data": {
      "text/plain": [
       "['나도',\n",
       " '내',\n",
       " '가',\n",
       " '어떤',\n",
       " '제',\n",
       " '3',\n",
       " '자가',\n",
       " '되어서',\n",
       " '나',\n",
       " '랑',\n",
       " '쇡스',\n",
       " '해야',\n",
       " '한다고',\n",
       " '하면',\n",
       " '토',\n",
       " '할',\n",
       " '거',\n",
       " '같음',\n",
       " '씨발',\n",
       " '…',\n",
       " '나',\n",
       " '랑',\n",
       " '함',\n",
       " '뜬',\n",
       " '인간',\n",
       " '들',\n",
       " '비위',\n",
       " '존나',\n",
       " '셈']"
      ]
     },
     "execution_count": 16,
     "metadata": {},
     "output_type": "execute_result"
    }
   ],
   "source": [
    "okt = Okt()\n",
    "\n",
    "okt.morphs(words)"
   ]
  },
  {
   "cell_type": "code",
   "execution_count": 21,
   "id": "ed02b648",
   "metadata": {},
   "outputs": [
    {
     "data": {
      "text/plain": [
       "['관계',\n",
       " '때',\n",
       " '팩트',\n",
       " '당신',\n",
       " '사람',\n",
       " '정작',\n",
       " '당신',\n",
       " '괴로움',\n",
       " '대해',\n",
       " '신경',\n",
       " '관계',\n",
       " '때',\n",
       " '팩트',\n",
       " '당신',\n",
       " '사람',\n",
       " '당신',\n",
       " '응원',\n",
       " '사람',\n",
       " '숫자']"
      ]
     },
     "execution_count": 21,
     "metadata": {},
     "output_type": "execute_result"
    }
   ],
   "source": [
    "okt.nouns(words)"
   ]
  },
  {
   "cell_type": "code",
   "execution_count": 13,
   "id": "f3207365",
   "metadata": {},
   "outputs": [
    {
     "data": {
      "text/plain": [
       "[('안녕', 'Noun'),\n",
       " (',', 'Punctuation'),\n",
       " ('나', 'Noun'),\n",
       " ('는', 'Josa'),\n",
       " ('사과', 'Noun'),\n",
       " ('와', 'Josa'),\n",
       " ('딸기', 'Noun'),\n",
       " ('를', 'Josa'),\n",
       " ('좋아해', 'Adjective')]"
      ]
     },
     "execution_count": 13,
     "metadata": {},
     "output_type": "execute_result"
    }
   ],
   "source": [
    "okt.pos(words)"
   ]
  },
  {
   "cell_type": "code",
   "execution_count": 22,
   "id": "b06e057a",
   "metadata": {},
   "outputs": [
    {
     "data": {
      "text/plain": [
       "['관계',\n",
       " '괴로울 때',\n",
       " '팩트',\n",
       " '팩트 1',\n",
       " '팩트 1 당신',\n",
       " '사람',\n",
       " '정작',\n",
       " '정작 당신',\n",
       " '정작 당신의 괴로움',\n",
       " '대해',\n",
       " '대해 신경',\n",
       " '팩트 2',\n",
       " '팩트 2 당신',\n",
       " '당신',\n",
       " '응원',\n",
       " '응원하는 사람',\n",
       " '응원하는 사람의 숫자',\n",
       " '괴로움',\n",
       " '신경',\n",
       " '숫자']"
      ]
     },
     "execution_count": 22,
     "metadata": {},
     "output_type": "execute_result"
    }
   ],
   "source": [
    "okt.phrases(words)"
   ]
  },
  {
   "cell_type": "code",
   "execution_count": 24,
   "id": "c4026e70",
   "metadata": {},
   "outputs": [
    {
     "data": {
      "text/plain": [
       "['나', '는', '자연어', '처리', '를', '배운다']"
      ]
     },
     "execution_count": 24,
     "metadata": {},
     "output_type": "execute_result"
    }
   ],
   "source": [
    "tokens = okt.morphs(\"나는 자연어 처리를 배운다\")\n",
    "tokens"
   ]
  },
  {
   "cell_type": "code",
   "execution_count": null,
   "id": "ed6a27af",
   "metadata": {},
   "outputs": [],
   "source": []
  },
  {
   "cell_type": "code",
   "execution_count": 33,
   "id": "ee0ff92d",
   "metadata": {},
   "outputs": [
    {
     "data": {
      "text/plain": [
       "{'나': 0, '는': 1, '자연어': 2, '처리': 3, '를': 4, '배운다': 5}"
      ]
     },
     "execution_count": 33,
     "metadata": {},
     "output_type": "execute_result"
    }
   ],
   "source": [
    "word_to_index = {word:index for index, word in enumerate(tokens)}\n",
    "word_to_index"
   ]
  },
  {
   "cell_type": "code",
   "execution_count": 36,
   "id": "8061d770",
   "metadata": {},
   "outputs": [
    {
     "name": "stdout",
     "output_type": "stream",
     "text": [
      "16384\n"
     ]
    }
   ],
   "source": [
    "# 단어 집합 총 10000개 - 중복을 제거해서 찾기\n",
    "# 2의 14승\n",
    "\n",
    "# 00000000000000 [00000000000000]패딩 [0]변환된값\n",
    "# 00000000000001\n",
    "# 00000000000010\n",
    "# 00000000000011\n",
    "# 00000000000100\n",
    "# 00000000000001\n",
    "print(2**14)"
   ]
  },
  {
   "cell_type": "code",
   "execution_count": 47,
   "id": "3ccd73d9",
   "metadata": {},
   "outputs": [
    {
     "data": {
      "text/plain": [
       "[0, 0, 0, 1, 0, 0]"
      ]
     },
     "execution_count": 47,
     "metadata": {},
     "output_type": "execute_result"
    }
   ],
   "source": [
    "one_hot = [0]*len(word_to_index)\n",
    "index = word_to_index[\"처리\"]\n",
    "one_hot[index] = 1\n",
    "one_hot # 거꾸로 읽어야함"
   ]
  },
  {
   "cell_type": "code",
   "execution_count": null,
   "id": "548fc4fd",
   "metadata": {},
   "outputs": [],
   "source": []
  },
  {
   "cell_type": "code",
   "execution_count": null,
   "id": "ca982b0c",
   "metadata": {},
   "outputs": [],
   "source": []
  },
  {
   "cell_type": "code",
   "execution_count": null,
   "id": "ebc786eb",
   "metadata": {},
   "outputs": [],
   "source": []
  },
  {
   "cell_type": "code",
   "execution_count": null,
   "id": "2762370d",
   "metadata": {},
   "outputs": [],
   "source": []
  },
  {
   "cell_type": "code",
   "execution_count": null,
   "id": "c4492ce9",
   "metadata": {},
   "outputs": [],
   "source": []
  },
  {
   "cell_type": "markdown",
   "id": "bd7196b7",
   "metadata": {},
   "source": [
    "### 파이썬 문법 정리\n",
    "- 리스트 내포\n",
    "- enumerate 함수 공부"
   ]
  },
  {
   "cell_type": "code",
   "execution_count": 28,
   "id": "fdeedca3",
   "metadata": {},
   "outputs": [
    {
     "name": "stdout",
     "output_type": "stream",
     "text": [
      "0 가\n",
      "1 나\n",
      "2 다\n"
     ]
    }
   ],
   "source": [
    "w=[\"가\",\"나\",\"다\"]\n",
    "for index,word in enumerate(w):\n",
    "    print(index,word)"
   ]
  },
  {
   "cell_type": "code",
   "execution_count": 31,
   "id": "0f1be9d4",
   "metadata": {},
   "outputs": [
    {
     "data": {
      "text/plain": [
       "[2, 4, 6]"
      ]
     },
     "execution_count": 31,
     "metadata": {},
     "output_type": "execute_result"
    }
   ],
   "source": [
    "list = [1,2,3] # \n",
    "result = [a*2 for a in list] # 리스트 내포 = 리스트를 a에 하나씩 담고 앞에 표현식으로 처리한 값이 결과값으로 들어감, 맨뒤 if사용가능\n",
    "result # 배열을 사용해서 감쌋으므로 배열이 들어감 => {}를 사용하면 dict형태로 나옴."
   ]
  },
  {
   "cell_type": "code",
   "execution_count": null,
   "id": "459dc715",
   "metadata": {},
   "outputs": [],
   "source": []
  }
 ],
 "metadata": {
  "kernelspec": {
   "display_name": "Python 3 (ipykernel)",
   "language": "python",
   "name": "python3"
  },
  "language_info": {
   "codemirror_mode": {
    "name": "ipython",
    "version": 3
   },
   "file_extension": ".py",
   "mimetype": "text/x-python",
   "name": "python",
   "nbconvert_exporter": "python",
   "pygments_lexer": "ipython3",
   "version": "3.9.12"
  }
 },
 "nbformat": 4,
 "nbformat_minor": 5
}
