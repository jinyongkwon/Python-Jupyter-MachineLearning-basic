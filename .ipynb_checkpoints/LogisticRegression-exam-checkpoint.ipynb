{
 "cells": [
  {
   "cell_type": "code",
   "execution_count": 360,
   "id": "10e609f7",
   "metadata": {},
   "outputs": [
    {
     "name": "stdout",
     "output_type": "stream",
     "text": [
      "0.7737226277372263\n",
      "0.7608695652173914\n",
      "[0 1 1 1 0]\n",
      "[1 1 0 1 1]\n"
     ]
    }
   ],
   "source": [
    "import pandas as pd\n",
    "import numpy as np\n",
    "import matplotlib.pyplot as plt\n",
    "from sklearn.model_selection import train_test_split\n",
    "from sklearn.linear_model import LogisticRegression\n",
    "from sklearn.preprocessing import StandardScaler\n",
    "from scipy.special import expit\n",
    "from sklearn.preprocessing import PolynomialFeatures\n",
    "\n",
    "# csv 파일을 읽음\n",
    "df = pd.read_csv(\"train.csv\")\n",
    "\n",
    "# 결측값 미리 제거\n",
    "df = df.dropna(axis=0)\n",
    "\n",
    "# 타겟 데이터 잡음\n",
    "taitanic_target = df[\"Survived\"]\n",
    "\n",
    "# 특성을 고르고 데이터 전처리\n",
    "taitanic_input = df[[\"Pclass\", \"Sex\",\"Age\"]]\n",
    "\n",
    "# 성별분류\n",
    "taitanic_input = taitanic_input.copy() # 원본데이터 바뀐다는 경고 제거를 위함\n",
    "taitanic_input[\"Sex\"] = taitanic_input.loc[:,'Sex'].replace(['female','male'],[0,1])\n",
    "\n",
    "# Pandas데이터 Numpy 변환\n",
    "taitanic_input = taitanic_input.to_numpy()\n",
    "taitanic_target = taitanic_target.to_numpy()\n",
    "\n",
    "# 크로스 밸리데이션\n",
    "train_input, test_input, train_target, test_target = train_test_split(taitanic_input, taitanic_target)\n",
    "\n",
    "# 변환기로 데이터 뻥튀기\n",
    "poly = PolynomialFeatures(degree=5, include_bias=False)\n",
    "poly.fit(train_input)\n",
    "train_poly = poly.transform(train_input)\n",
    "test_poly = poly.transform(test_input)\n",
    "\n",
    "# 스케일 처리\n",
    "ss= StandardScaler()\n",
    "ss.fit(train_poly)\n",
    "train_scaled = ss.transform(train_poly)\n",
    "test_scaled = ss.transform(test_poly)\n",
    "\n",
    "# 로지스틱 회귀모델 학습\n",
    "lr = LogisticRegression()\n",
    "lr.fit(train_scaled,train_target)\n",
    "\n",
    "# 결정계수 확인\n",
    "print(lr.score(train_scaled, train_target)) \n",
    "print(lr.score(test_scaled, test_target))\n",
    "\n",
    "print(lr.predict(test_scaled[:5]))\n",
    "print(train_target[:5])\n"
   ]
  },
  {
   "cell_type": "code",
   "execution_count": 352,
   "id": "8ec808f8",
   "metadata": {},
   "outputs": [
    {
     "name": "stdout",
     "output_type": "stream",
     "text": [
      "1.0002641656503337\n",
      "0.10536051565782628\n",
      "0.2231435513142097\n",
      "1.6094379124341003\n",
      "11.512925464970229\n"
     ]
    }
   ],
   "source": [
    "print(np.log(2.719))\n",
    "\n",
    "print(-np.log(0.9))\n",
    "print(-np.log(0.8))\n",
    "print(-np.log(0.2))\n",
    "print(-np.log(0.00001))"
   ]
  },
  {
   "cell_type": "code",
   "execution_count": null,
   "id": "279696a8",
   "metadata": {},
   "outputs": [],
   "source": []
  },
  {
   "cell_type": "code",
   "execution_count": null,
   "id": "9a8e745d",
   "metadata": {},
   "outputs": [],
   "source": []
  }
 ],
 "metadata": {
  "kernelspec": {
   "display_name": "Python 3 (ipykernel)",
   "language": "python",
   "name": "python3"
  },
  "language_info": {
   "codemirror_mode": {
    "name": "ipython",
    "version": 3
   },
   "file_extension": ".py",
   "mimetype": "text/x-python",
   "name": "python",
   "nbconvert_exporter": "python",
   "pygments_lexer": "ipython3",
   "version": "3.9.7"
  }
 },
 "nbformat": 4,
 "nbformat_minor": 5
}
