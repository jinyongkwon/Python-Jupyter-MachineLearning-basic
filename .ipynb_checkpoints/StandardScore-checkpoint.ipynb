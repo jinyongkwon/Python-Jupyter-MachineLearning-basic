{
 "cells": [
  {
   "cell_type": "code",
   "execution_count": 9,
   "id": "0190dd92",
   "metadata": {},
   "outputs": [
    {
     "name": "stdout",
     "output_type": "stream",
     "text": [
      "평균 6.0\n",
      "평균으로 부터 얼마나 떨어져 있는가 [-1.  2.  0.  4. -5.]\n",
      "음수를 제거하기위해 제곱한 값 [ 1.  4.  0. 16. 25.]\n",
      "분산 9.2\n",
      "표준편차 3.03315017762062\n",
      "표준점수 [-0.32969024  0.65938047  0.          1.31876095 -1.64845118]\n"
     ]
    }
   ],
   "source": [
    "import numpy as np\n",
    "\n",
    "list1 = [5,8,6,10,1]\n",
    "\n",
    "# 평균\n",
    "n1 = np.array(list1)\n",
    "m1 = n1.mean() # 리스트의 평균을 구해주는 메서드\n",
    "\n",
    "print(\"평균\",m1)\n",
    "\n",
    "# 분산 (평균으로 얼마나 떨어져 있는가를 제곱(음수제거)해서 평균)\n",
    "t1 = n1-m1 # 알아서 for-each처럼 각각의 값을 계산해줌\n",
    "print(\"평균으로 부터 얼마나 떨어져 있는가\",t1)\n",
    "\n",
    "t2 = t1**2 # 파이썬 문법으로 **로 제곱을 할수 있음.\n",
    "print(\"음수를 제거하기위해 제곱한 값\", t2)\n",
    "\n",
    "b1 = t2.mean() # 평균적으로 떨어져있는 정도\n",
    "print(\"분산\", b1)\n",
    "\n",
    "# 표준편차 (분산의 제곱근)\n",
    "s1 = np.sqrt(b1)\n",
    "print(\"표준편차\", s1)\n",
    "\n",
    "# 표준점수\n",
    "# [5,8,6,10,1] => 원점수\n",
    "result = (n1-m1)/s1\n",
    "print(\"표준점수\", result)"
   ]
  },
  {
   "cell_type": "code",
   "execution_count": null,
   "id": "f9723689",
   "metadata": {},
   "outputs": [],
   "source": []
  }
 ],
 "metadata": {
  "kernelspec": {
   "display_name": "Python 3 (ipykernel)",
   "language": "python",
   "name": "python3"
  },
  "language_info": {
   "codemirror_mode": {
    "name": "ipython",
    "version": 3
   },
   "file_extension": ".py",
   "mimetype": "text/x-python",
   "name": "python",
   "nbconvert_exporter": "python",
   "pygments_lexer": "ipython3",
   "version": "3.9.12"
  }
 },
 "nbformat": 4,
 "nbformat_minor": 5
}
