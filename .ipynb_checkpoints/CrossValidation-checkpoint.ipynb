{
 "cells": [
  {
   "cell_type": "markdown",
   "id": "a41950a5",
   "metadata": {},
   "source": [
    "# 크로스 밸리데이션"
   ]
  },
  {
   "cell_type": "code",
   "execution_count": 2,
   "id": "5f394c1d",
   "metadata": {},
   "outputs": [],
   "source": [
    "fish_length = [25.4, 26.3, 26.5, 29.0, 29.0, 29.7, 29.7, 30.0, 30.0, 30.7, 31.0, 31.0, \n",
    "                31.5, 32.0, 32.0, 32.0, 33.0, 33.0, 33.5, 33.5, 34.0, 34.0, 34.5, 35.0, \n",
    "                35.0, 35.0, 35.0, 36.0, 36.0, 37.0, 38.5, 38.5, 39.5, 41.0, 41.0, 9.8, \n",
    "                10.5, 10.6, 11.0, 11.2, 11.3, 11.8, 11.8, 12.0, 12.2, 12.4, 13.0, 14.3, 15.0]\n",
    "fish_weight = [242.0, 290.0, 340.0, 363.0, 430.0, 450.0, 500.0, 390.0, 450.0, 500.0, 475.0, 500.0, \n",
    "                500.0, 340.0, 600.0, 600.0, 700.0, 700.0, 610.0, 650.0, 575.0, 685.0, 620.0, 680.0, \n",
    "                700.0, 725.0, 720.0, 714.0, 850.0, 1000.0, 920.0, 955.0, 925.0, 975.0, 950.0, 6.7, \n",
    "                7.5, 7.0, 9.7, 9.8, 8.7, 10.0, 9.9, 9.8, 12.2, 13.4, 12.2, 19.7, 19.9]"
   ]
  },
  {
   "cell_type": "code",
   "execution_count": 3,
   "id": "b5a8bbc4",
   "metadata": {},
   "outputs": [],
   "source": [
    "fish_target = [1] * 35 + [0] * 14"
   ]
  },
  {
   "cell_type": "code",
   "execution_count": 4,
   "id": "928e8105",
   "metadata": {},
   "outputs": [],
   "source": [
    "import numpy as np\n",
    "\n",
    "fish_data = np.column_stack((fish_length,fish_weight))\n",
    "\n",
    "fish_target = [1] * 35 + [0] * 14"
   ]
  },
  {
   "cell_type": "code",
   "execution_count": 5,
   "id": "6891f5fe",
   "metadata": {},
   "outputs": [],
   "source": [
    "from sklearn.model_selection import train_test_split\n",
    "# 사이킷런의 메서드중 자동으로 크로스 밸리데이션을 해주는 메서드이다.\n",
    "train_input , test_input, train_target, test_target = train_test_split(fish_data,fish_target) # return이 4개인것이다."
   ]
  },
  {
   "cell_type": "code",
   "execution_count": 9,
   "id": "c988e4f3",
   "metadata": {
    "scrolled": true
   },
   "outputs": [
    {
     "name": "stdout",
     "output_type": "stream",
     "text": [
      "(36, 2)\n",
      "(13, 2)\n",
      "0.7346938775510204\n",
      "0.2653061224489796\n"
     ]
    }
   ],
   "source": [
    "print(train_input.shape)\n",
    "print(test_input.shape)\n",
    "print(36/49) # train의 비중\n",
    "print(13/49) # test의 비중"
   ]
  },
  {
   "cell_type": "code",
   "execution_count": 10,
   "id": "44de3b93",
   "metadata": {},
   "outputs": [
    {
     "data": {
      "text/plain": [
       "KNeighborsClassifier()"
      ]
     },
     "execution_count": 10,
     "metadata": {},
     "output_type": "execute_result"
    }
   ],
   "source": [
    "from sklearn.neighbors import KNeighborsClassifier\n",
    "\n",
    "kn = KNeighborsClassifier(n_neighbors=5)\n",
    "kn.fit(train_input, train_target)"
   ]
  },
  {
   "cell_type": "code",
   "execution_count": 12,
   "id": "dc9c385c",
   "metadata": {},
   "outputs": [
    {
     "data": {
      "text/plain": [
       "1.0"
      ]
     },
     "execution_count": 12,
     "metadata": {},
     "output_type": "execute_result"
    }
   ],
   "source": [
    "kn.score(test_input,test_target)"
   ]
  },
  {
   "cell_type": "code",
   "execution_count": 24,
   "id": "2c028411",
   "metadata": {},
   "outputs": [
    {
     "data": {
      "image/png": "[encoded data removed]",
      "text/plain": [
       "<Figure size 432x288 with 1 Axes>"
      ]
     },
     "metadata": {
      "needs_background": "light"
     },
     "output_type": "display_data"
    }
   ],
   "source": [
    "import matplotlib.pyplot as plt\n",
    "\n",
    "# print(train_input)\n",
    "plt.scatter(train_input[:,0], train_input[:,1])\n",
    "plt.scatter(test_input[:,0], test_input[:,1])\n",
    "plt.scatter([25],[150], marker=\"^\")\n",
    "plt.show()"
   ]
  },
  {
   "cell_type": "code",
   "execution_count": 20,
   "id": "3f552af0",
   "metadata": {},
   "outputs": [
    {
     "name": "stdout",
     "output_type": "stream",
     "text": [
      "[0 1 0 0 1 0 1 1 1 1 1 1 1]\n",
      "[0, 1, 0, 0, 1, 0, 1, 1, 1, 1, 1, 1, 1]\n"
     ]
    }
   ],
   "source": [
    "print(kn.predict(test_input))\n",
    "print(test_target)"
   ]
  },
  {
   "cell_type": "code",
   "execution_count": 22,
   "id": "0cd6e8f3",
   "metadata": {},
   "outputs": [
    {
     "data": {
      "text/plain": [
       "array([0])"
      ]
     },
     "execution_count": 22,
     "metadata": {},
     "output_type": "execute_result"
    }
   ],
   "source": [
    "kn.predict([[25,150]]) # 빙어로 인식"
   ]
  },
  {
   "cell_type": "code",
   "execution_count": null,
   "id": "26348c86",
   "metadata": {},
   "outputs": [],
   "source": []
  }
 ],
 "metadata": {
  "kernelspec": {
   "display_name": "Python 3 (ipykernel)",
   "language": "python",
   "name": "python3"
  },
  "language_info": {
   "codemirror_mode": {
    "name": "ipython",
    "version": 3
   },
   "file_extension": ".py",
   "mimetype": "text/x-python",
   "name": "python",
   "nbconvert_exporter": "python",
   "pygments_lexer": "ipython3",
   "version": "3.9.12"
  }
 },
 "nbformat": 4,
 "nbformat_minor": 5
}
